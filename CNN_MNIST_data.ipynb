{
 "cells": [
  {
   "cell_type": "code",
   "execution_count": 1,
   "metadata": {
    "id": "QtunkXSwtd3Z"
   },
   "outputs": [],
   "source": [
    "import tensorflow as tf"
   ]
  },
  {
   "cell_type": "code",
   "execution_count": 2,
   "metadata": {
    "colab": {
     "base_uri": "https://localhost:8080/"
    },
    "id": "FAIPsvVjuBMG",
    "outputId": "3b27027e-0611-4799-db80-63024f05abea"
   },
   "outputs": [
    {
     "name": "stdout",
     "output_type": "stream",
     "text": [
      "2.8.2\n"
     ]
    }
   ],
   "source": [
    "print(tf.__version__)"
   ]
  },
  {
   "cell_type": "code",
   "execution_count": 3,
   "metadata": {
    "id": "N-QRuNsXuIrR"
   },
   "outputs": [],
   "source": [
    "import random\n",
    "random.seed(0)\n",
    "import warnings\n",
    "warnings.filterwarnings('ignore')import random\n",
    "random.seed(0)\n",
    "import warnings\n",
    "warnings.filterwarnings('ignore')"
   ]
  },
  {
   "cell_type": "code",
   "execution_count": 4,
   "metadata": {
    "colab": {
     "base_uri": "https://localhost:8080/"
    },
    "id": "MXZcaYzYufPt",
    "outputId": "bf36604e-f112-424c-bfea-5cc000a12d55"
   },
   "outputs": [
    {
     "name": "stdout",
     "output_type": "stream",
     "text": [
      "Downloading data from https://storage.googleapis.com/tensorflow/tf-keras-datasets/mnist.npz\n",
      "11493376/11490434 [==============================] - 0s 0us/step\n",
      "11501568/11490434 [==============================] - 0s 0us/step\n"
     ]
    }
   ],
   "source": [
    "from tensorflow.keras.datasets import mnist\n",
    "(x_train,y_train),(x_test,y_test)=mnist.load_data()"
   ]
  },
  {
   "cell_type": "code",
   "execution_count": 5,
   "metadata": {
    "id": "mz327ZdI0_Do"
   },
   "outputs": [],
   "source": [
    "#reshaping  independent variable\n",
    "x_train=x_train.reshape(x_train.shape[0],28,28,1)\n",
    "x_test=x_test.reshape(x_test.shape[0],28,28,1)"
   ]
  },
  {
   "cell_type": "code",
   "execution_count": 6,
   "metadata": {
    "id": "TbtcWxqu1nTP"
   },
   "outputs": [],
   "source": [
    "x_train=x_train.astype('float32')\n",
    "x_test=x_test.astype('float32')"
   ]
  },
  {
   "cell_type": "code",
   "execution_count": 7,
   "metadata": {
    "id": "_0YzghTX10oA"
   },
   "outputs": [],
   "source": [
    "x_train=x_train/255\n",
    "x_test=x_test/255"
   ]
  },
  {
   "cell_type": "code",
   "execution_count": 8,
   "metadata": {
    "id": "qLAZ1N7J180a"
   },
   "outputs": [],
   "source": [
    "#one hot encoding of image labels/dependent variable\n",
    "from tensorflow.keras.utils import to_categorical"
   ]
  },
  {
   "cell_type": "code",
   "execution_count": 9,
   "metadata": {
    "id": "CaWIqNWy2KBU"
   },
   "outputs": [],
   "source": [
    "y_train=to_categorical(y_train,num_classes=10)\n",
    "y_test=to_categorical(y_test,num_classes=10)"
   ]
  },
  {
   "cell_type": "code",
   "execution_count": 14,
   "metadata": {
    "id": "Lom6G2EK2lq2"
   },
   "outputs": [],
   "source": [
    "#CNN\n",
    "from tensorflow.keras.layers import Conv2D,Flatten,Dense,MaxPooling2D,Dropout\n",
    "from tensorflow.keras.models import Sequential"
   ]
  },
  {
   "cell_type": "code",
   "execution_count": 15,
   "metadata": {
    "id": "D6_ftfdv3Hnq"
   },
   "outputs": [],
   "source": [
    "#CNN\n",
    "model=Sequential()\n",
    "#convulational layer\n",
    "model.add(Conv2D(filters=32,kernel_size=3,activation='relu',input_shape=(28,28,1)))\n",
    "model.add(Conv2D(filters=32,kernel_size=3,activation='relu'))\n",
    "#Applying max pooling layer of size 2x2\n",
    "model.add(MaxPooling2D(pool_size=(2,2)))\n",
    "#Dropout layer-Regularization- Reduces chances of overfitting\n",
    "model.add(Dropout(rate=0.2))\n",
    "model.add(Flatten())\n",
    "#NN\n",
    "#hidden layer\n",
    "model.add(Dense(128,activation='relu'))\n",
    "#output layer\n",
    "model.add(Dense(10,activation='softmax'))"
   ]
  },
  {
   "cell_type": "code",
   "execution_count": 16,
   "metadata": {
    "id": "Ifce5ckhXcsB"
   },
   "outputs": [],
   "source": [
    "model.compile(optimizer='adam',loss='categorical_crossentropy',metrics=['accuracy'])"
   ]
  },
  {
   "cell_type": "code",
   "execution_count": 19,
   "metadata": {
    "colab": {
     "base_uri": "https://localhost:8080/"
    },
    "id": "y7APxbIxYzuA",
    "outputId": "cc1abf1b-b463-4305-c884-8247e36a8e8b"
   },
   "outputs": [
    {
     "name": "stdout",
     "output_type": "stream",
     "text": [
      "Epoch 1/10\n",
      "1875/1875 [==============================] - 117s 62ms/step - loss: 0.0060 - accuracy: 0.9980 - val_loss: 0.0392 - val_accuracy: 0.9911\n",
      "Epoch 2/10\n",
      "1875/1875 [==============================] - 116s 62ms/step - loss: 0.0061 - accuracy: 0.9979 - val_loss: 0.0447 - val_accuracy: 0.9907\n",
      "Epoch 3/10\n",
      "1875/1875 [==============================] - 112s 60ms/step - loss: 0.0051 - accuracy: 0.9984 - val_loss: 0.0409 - val_accuracy: 0.9914\n",
      "Epoch 4/10\n",
      "1875/1875 [==============================] - 108s 58ms/step - loss: 0.0045 - accuracy: 0.9986 - val_loss: 0.0438 - val_accuracy: 0.9912\n",
      "Epoch 5/10\n",
      "1875/1875 [==============================] - 107s 57ms/step - loss: 0.0044 - accuracy: 0.9986 - val_loss: 0.0493 - val_accuracy: 0.9907\n",
      "Epoch 6/10\n",
      "1875/1875 [==============================] - 109s 58ms/step - loss: 0.0046 - accuracy: 0.9985 - val_loss: 0.0417 - val_accuracy: 0.9913\n",
      "Epoch 7/10\n",
      "1875/1875 [==============================] - 108s 58ms/step - loss: 0.0040 - accuracy: 0.9989 - val_loss: 0.0479 - val_accuracy: 0.9909\n",
      "Epoch 8/10\n",
      "1875/1875 [==============================] - 109s 58ms/step - loss: 0.0044 - accuracy: 0.9987 - val_loss: 0.0571 - val_accuracy: 0.9892\n",
      "Epoch 9/10\n",
      "1875/1875 [==============================] - 110s 59ms/step - loss: 0.0031 - accuracy: 0.9991 - val_loss: 0.0580 - val_accuracy: 0.9908\n",
      "Epoch 10/10\n",
      "1875/1875 [==============================] - 108s 58ms/step - loss: 0.0032 - accuracy: 0.9989 - val_loss: 0.0539 - val_accuracy: 0.9919\n"
     ]
    },
    {
     "data": {
      "text/plain": [
       "<keras.callbacks.History at 0x7f8c38ae8a10>"
      ]
     },
     "execution_count": 19,
     "metadata": {},
     "output_type": "execute_result"
    }
   ],
   "source": [
    "model.fit(x=x_train,y=y_train,batch_size=32,epochs=10,validation_data=(x_test,y_test))"
   ]
  },
  {
   "cell_type": "code",
   "execution_count": 20,
   "metadata": {
    "colab": {
     "base_uri": "https://localhost:8080/"
    },
    "id": "l1Z4dTCMZL4m",
    "outputId": "d45f04c0-c73a-48de-ec0b-068dcd0d5296"
   },
   "outputs": [
    {
     "name": "stdout",
     "output_type": "stream",
     "text": [
      "313/313 [==============================] - 4s 14ms/step - loss: 0.0539 - accuracy: 0.9919\n"
     ]
    },
    {
     "data": {
      "text/plain": [
       "[0.05386561155319214, 0.9919000267982483]"
      ]
     },
     "execution_count": 20,
     "metadata": {},
     "output_type": "execute_result"
    }
   ],
   "source": [
    "model.evaluate(x_test,y_test)"
   ]
  },
  {
   "cell_type": "code",
   "execution_count": null,
   "metadata": {
    "id": "_CYh7RA7l98O"
   },
   "outputs": [],
   "source": []
  }
 ],
 "metadata": {
  "colab": {
   "name": "CND-MNIST_data",
   "provenance": []
  },
  "kernelspec": {
   "display_name": "Python 3 (ipykernel)",
   "language": "python",
   "name": "python3"
  },
  "language_info": {
   "codemirror_mode": {
    "name": "ipython",
    "version": 3
   },
   "file_extension": ".py",
   "mimetype": "text/x-python",
   "name": "python",
   "nbconvert_exporter": "python",
   "pygments_lexer": "ipython3",
   "version": "3.9.12"
  }
 },
 "nbformat": 4,
 "nbformat_minor": 1
}
